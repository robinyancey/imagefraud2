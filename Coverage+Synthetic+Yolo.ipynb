{
  "nbformat": 4,
  "nbformat_minor": 0,
  "metadata": {
    "colab": {
      "name": "Coverage+Synthetic+Yolo",
      "provenance": [],
      "collapsed_sections": [],
      "machine_shape": "hm"
    },
    "kernelspec": {
      "name": "python3",
      "display_name": "Python 3"
    },
    "accelerator": "GPU",
    "gpuClass": "standard"
  },
  "cells": [
    {
      "cell_type": "markdown",
      "source": [
        "# Generalized code to prepare and combine (both synthetic and real) Image Fruad Datasets for use with YOLOv5"
      ],
      "metadata": {
        "id": "LXDcWoX-EICr"
      }
    },
    {
      "cell_type": "markdown",
      "source": [
        "### imports"
      ],
      "metadata": {
        "id": "00Fx3qF7CwZr"
      }
    },
    {
      "cell_type": "code",
      "source": [
        "import cv2\n",
        "import re\n",
        "import yaml\n",
        "import numpy as np\n",
        "import matplotlib.pyplot as plt\n",
        "import zipfile\n",
        "import glob\n",
        "from random import randint\n",
        "import os\n",
        "import torch\n",
        "import tensorflow as tf\n",
        "from torchvision.io import read_image\n",
        "import torchvision.transforms.functional as F\n",
        "import torchvision.transforms as T\n",
        "from torchvision.ops import masks_to_boxes"
      ],
      "metadata": {
        "id": "wkxfF6C6UXS0"
      },
      "execution_count": null,
      "outputs": []
    },
    {
      "cell_type": "markdown",
      "source": [
        "### Unzip/extract images and masks files (uploaded as zip files)"
      ],
      "metadata": {
        "id": "eFEiEBONUm0g"
      }
    },
    {
      "cell_type": "code",
      "source": [
        "# path whereimages and masks zip folder(s) are located \n",
        "root = '/content/'"
      ],
      "metadata": {
        "id": "VX1AI1Z-DMjc"
      },
      "execution_count": null,
      "outputs": []
    },
    {
      "cell_type": "code",
      "source": [
        "# Create Labeled Train/Val/Test Sets in Proper File Structure\n",
        "# train \n",
        "os.mkdir(root + 'train')\n",
        "os.mkdir(root + 'train/' + 'labels')\n",
        "os.mkdir(root + 'train/' + 'images')\n",
        "# test\n",
        "os.mkdir(root + 'test')\n",
        "os.mkdir(root + 'test/' + 'labels')\n",
        "os.mkdir(root + 'test/' + 'images')\n",
        "# valid\n",
        "os.mkdir(root + 'valid')\n",
        "os.mkdir(root + 'valid/' + 'labels')\n",
        "os.mkdir(root + 'valid/' + 'images')"
      ],
      "metadata": {
        "id": "_PfvUxx6RZ6N"
      },
      "execution_count": null,
      "outputs": []
    },
    {
      "cell_type": "markdown",
      "source": [
        "### COVERAGE"
      ],
      "metadata": {
        "id": "ZKpim5vBDUQB"
      }
    },
    {
      "cell_type": "code",
      "source": [
        "with zipfile.ZipFile(root +'masks.zip' , 'r') as zip_ref:\n",
        "  zip_ref.extractall(root)"
      ],
      "metadata": {
        "id": "0Jx-apZ4Uqmn"
      },
      "execution_count": null,
      "outputs": []
    },
    {
      "cell_type": "code",
      "source": [
        "with zipfile.ZipFile(root + 'images.zip' , 'r') as zip_ref:\n",
        "  zip_ref.extractall(root)"
      ],
      "metadata": {
        "id": "PF9qUU1yFQCb"
      },
      "execution_count": null,
      "outputs": []
    },
    {
      "cell_type": "code",
      "source": [
        "# name of DB\n",
        "DB = 'coverage'\n",
        "# COVERAGE is a very small DB\n",
        "val_size = test_size = 15\n",
        "# name \n",
        "files = 'masks'"
      ],
      "metadata": {
        "id": "dNNloXvfB6vS"
      },
      "execution_count": null,
      "outputs": []
    },
    {
      "cell_type": "markdown",
      "source": [
        "### IEEE IFS-TC ImageForensics Challenge"
      ],
      "metadata": {
        "id": "-Dh1y1xHDV4g"
      }
    },
    {
      "cell_type": "code",
      "source": [
        "with zipfile.ZipFile(root +'fake.zip' , 'r') as zip_ref:\n",
        "  zip_ref.extractall(root)"
      ],
      "metadata": {
        "id": "H-UQH4sz4ga9"
      },
      "execution_count": null,
      "outputs": []
    },
    {
      "cell_type": "code",
      "source": [
        "with zipfile.ZipFile(root + 'pristine.zip' , 'r') as zip_ref:\n",
        "  zip_ref.extractall(root)"
      ],
      "metadata": {
        "id": "TeqRNokZFHke"
      },
      "execution_count": 47,
      "outputs": []
    },
    {
      "cell_type": "code",
      "source": [
        "# name of DB\n",
        "DB = 'ifs-tc'\n",
        "# COVERAGE is a very small DB\n",
        "val_size = test_size = 150\n",
        "# name \n",
        "files = 'fake'"
      ],
      "metadata": {
        "id": "9mLU0W8jXLgH"
      },
      "execution_count": null,
      "outputs": []
    },
    {
      "cell_type": "markdown",
      "source": [
        "### other constants"
      ],
      "metadata": {
        "id": "v5Cj8DulDdHQ"
      }
    },
    {
      "cell_type": "code",
      "source": [
        "# YOLO requires images to be squares \n",
        "# choose appropriate side length\n",
        "im_size = 416"
      ],
      "metadata": {
        "id": "IkQAZr8dCQLn"
      },
      "execution_count": null,
      "outputs": []
    },
    {
      "cell_type": "markdown",
      "source": [
        "## Create and label synthetic Tampered Dataset (and divide into train/valid)\n",
        "- either save the weights (trained with synthetic data) to retrain or fine-tune with non-synthetic dataset or run add them to the same training set\n",
        "\n",
        "\n"
      ],
      "metadata": {
        "id": "WEmATOhQUvbW"
      }
    },
    {
      "cell_type": "markdown",
      "source": [
        "## TODO:\n",
        "\n",
        "Datasets:\n",
        "- try other image fraud db\n",
        "- compare synthetic Pascal Voc images (download masks)\n",
        "- compare synthetic COCO images (download masks)\n",
        "\n",
        "Testing:\n",
        "- add in untampered images\n",
        "- add more augmented data from actual training set since there is a class imbalance\n",
        "\n",
        "Preprossing:\n",
        "- try resizing via padding only to avoid adding additional \"tampering\" or artifacts\n",
        "- move around masks pasted\n",
        "\n"
      ],
      "metadata": {
        "id": "cR1zChvkE-Qa"
      }
    },
    {
      "cell_type": "markdown",
      "source": [
        "##image fraud DBs only include masks (no BBs) so this `createLabeledSets` function extracts BBs from masks to create the labels while placing properly formatted images and labels in proper YOLO file structures (for each train/val/test set)\n",
        "\n",
        "\n",
        "**root:** where directories with test/train/val will be created \n",
        "and where the original tampered/authentic images and masks will be unzipped\n",
        "\n",
        "**DB:**\n",
        "\n",
        "**files:** name of folder holding all masks and/or corresponding tampered images\n",
        "\n",
        "**test_size:**\n",
        "\n",
        "**val_size:**\n",
        "\n",
        "**im_size:**\n",
        "\n",
        "**synthetic:** if True then a synthetically crop object from another image and paste onto untampered image\n",
        "\n",
        "num_real = 0, augmentation = 'None', n_rotations = 1, bb_pad = 0"
      ],
      "metadata": {
        "id": "yctfXcRaM1Uv"
      }
    },
    {
      "cell_type": "code",
      "source": [
        "def createLabeledSets(root, DB, files, test_size, val_size, im_size, synthetic, num_real = 0, augmentation = 'None', n_rotations = 1, bb_pad = 0):\n",
        "\n",
        "  # get all mask names in a list (sorted so first images will always be in test set)\n",
        "  all_files = list(sorted(os.listdir(os.path.join(root, files))))\n",
        "  # get all images in a list \n",
        "  # images = list(sorted(os.listdir(os.path.join(root, 'images'))))\n",
        "  subset = 'test'\n",
        "  count = num_real\n",
        "\n",
        "  #def crop_resize(im,im_size,bb = None):\n",
        "    # if bb != None:\n",
        "    #   x1,x2,w,h = \n",
        "    # w0, h0 = im.size[:2]\n",
        "    # r_x, r_y = random.randint( w0-im_size,im_size-bb-1), random.randint(bb+1, im_size-bb-1) \n",
        "    # new_im = im[w0-im_size:(orig_im_coords[1] + (im_size-r_x)), (orig_im_coords[1] - r_y):(orig_im_coords [1] + (im_size-r_y))]\n",
        "    #   if new_ims[name + '_' + str(line[0:3]) + '_' + str(i)].shape != (416,416,3):\n",
        "    #     del new_ims[name + '_' + str(line[0:3]) + '_' + str(i)]\n",
        "    #   else:\n",
        "    #     labels[name + '_' + str(line[0:3]) + '_' + str(i)] = [r_x - bb, r_y- bb, r_x + bb, r_y + bb ]\n",
        "\n",
        "\n",
        "  # iterate through each mask \n",
        "  for i in range(len(all_files)):\n",
        "\n",
        "    if test_size <= i < (test_size + val_size):\n",
        "      subset = 'valid' \n",
        "    elif i >= (test_size + val_size):\n",
        "      subset = 'train'\n",
        "\n",
        "    if i < test_size:\n",
        "      num = randint(0,test_size)\n",
        "    else:\n",
        "      num = randint(test_size,len(all_files)-1)\n",
        "\n",
        "    if DB == 'coverage':\n",
        "      ext = '.jpg'\n",
        "      # remove forgery type info from image number so it matches with the corresponding image\n",
        "      # for COVERAGE dataset matching numbers in names mean corresponding image/mask pair\n",
        "      auth_name = re.sub(\"[^0-9]\", \"\", all_files[i])\n",
        "      \n",
        "      if all_files[i] != auth_name + 'paste.jpeg':\n",
        "        continue\n",
        "\n",
        "      tamp_name = auth_name + 't' \n",
        "      # make sure to not paste on tampered image for synthetic generation\n",
        "      auth2_name = re.sub(\"[^0-9]\", \"\", all_files[num]) \n",
        "\n",
        "      # get image and mask using above\n",
        "      tamp_im = cv2.imread(os.path.join(root, \"images\", tamp_name + ext))\n",
        "      mask_im = cv2.imread(os.path.join(root, files, all_files[i]))\n",
        "      # COVERAGE contains a corresponding 'real' image for each tampered image\n",
        "      auth_im = cv2.imread(os.path.join(root, \"images\", auth_name + ext))\n",
        "      auth2_im = cv2.imread(os.path.join(root, \"images\", auth2_name + ext)) \n",
        "    \n",
        "    if DB == 'ifs-tc':\n",
        "      ext = '.png'\n",
        "\n",
        "      if all_files[i] == all_files[i].split('.mask')[0]:\n",
        "        continue\n",
        "      tamp_name = all_files[i].split('.mask')[0]\n",
        "      auth_name = all_files[i].split(ext)[0]\n",
        "      auth2_name = list(sorted(os.listdir(os.path.join(root, 'pristine'))))[i].split(ext)[0]\n",
        "      print(auth2_name)\n",
        "\n",
        "      tamp_im = cv2.imread(os.path.join(root, files, tamp_name + ext))\n",
        "      mask_im = cv2.imread(os.path.join(root, files, all_files[i]))\n",
        "      auth_im = cv2.imread(os.path.join(root, \"pristine\", auth_name + ext)) \n",
        "      auth2_im = cv2.imread(os.path.join(root, \"pristine\", auth2_name + ext)) \n",
        "      #print(list(sorted(os.listdir(os.path.join(root, 'pristine'))))[i])\n",
        "\n",
        "\n",
        "    if num_real > 0 and count > 0:\n",
        "        count -= 1\n",
        "        \n",
        "        # write empty file meaning 'no object' for untampered images (ones without the 't' are untampered)\n",
        "        with open(os.path.join(root, subset, \"labels\", auth_name + '.txt'), 'w') as f:     \n",
        "          f.write(' ')\n",
        "        # then add the real image to the set folder\n",
        "\n",
        "        ### HERE\n",
        "        auth_im = cv2.resize(auth_im, (im_size,im_size))\n",
        "        cv2.imwrite(os.path.join(root, subset, \"images\", auth_name + ext), auth_im)\n",
        "      \n",
        "\n",
        "    for j in range(n_rotations):\n",
        "\n",
        "      \n",
        "      # read in image to extract masked region\n",
        "      # im = cv2.imread(os.path.join(root, \"images\", tamp_name + '.jpeg'))\n",
        "\n",
        "      # read corresponding mask\n",
        "      # mask = cv2.imread(os.path.join(root, \"masks\", all_files[i]))\n",
        "\n",
        "      # rotate both the mask and the tamped image its extracted from \n",
        "      if j == 0:\n",
        "        # no rotation (full 360)\n",
        "        mask_im = cv2.rotate(mask_im, cv2.ROTATE_180)\n",
        "        tamp_im = cv2.rotate(tamp_im, cv2.ROTATE_180)\n",
        "        rotate = cv2.ROTATE_180\n",
        "      elif j == 1:\n",
        "        if subset == 'test':\n",
        "          break\n",
        "        rotate = cv2.ROTATE_90_COUNTERCLOCKWISE\n",
        "      elif j == 2:\n",
        "        rotate = cv2.ROTATE_180\n",
        "      else:\n",
        "        rotate = cv2.ROTATE_90_CLOCKWISE\n",
        "      \n",
        "      # get BBs from mask\n",
        "      # first rotate and resize\n",
        "      \n",
        "      mask_im = cv2.rotate(mask_im, rotate)\n",
        "\n",
        "      ### HERE\n",
        "      mask_im = cv2.resize(mask_im, (im_size,im_size))\n",
        "\n",
        "      # make sure image is binary and threshold\n",
        "      gray = cv2.cvtColor(mask_im, cv2.COLOR_BGR2GRAY)\n",
        "      thresh = cv2.threshold(gray,250,255,cv2.THRESH_BINARY)[1]\n",
        "      cnts = cv2.findContours(thresh, cv2.RETR_EXTERNAL, cv2.CHAIN_APPROX_SIMPLE)\n",
        "      cnts = cnts[0] if len(cnts) == 2 else cnts[1]\n",
        "      for c in cnts:\n",
        "        x,y,w1,h1 = cv2.boundingRect(c)\n",
        "\n",
        "        \n",
        "      # YOLO requires coordinates in x,y center, x,y height/width\n",
        "      c_x = x + (w1 // 2) \n",
        "      c_y = y + (h1 // 2)\n",
        "      # YOLO requires normalization of coordinates      \n",
        "      c_x /= im_size\n",
        "      c_y /= im_size \n",
        "      w = (w1 + bb_pad) / im_size \n",
        "      h = (h1 + bb_pad)/ im_size\n",
        "      \n",
        "      # rotate and resize image (same ask mask)\n",
        "      im_r = cv2.rotate(tamp_im, rotate)\n",
        "\n",
        "      ### HERE\n",
        "      out_im = cv2.resize(im_r, (im_size,im_size))\n",
        "\n",
        "      if synthetic == True:  \n",
        "        # read in random image to paste extracted masked region onto it\n",
        "        # and keep BG and FG images in same sets:\n",
        "\n",
        "        ### HERE\n",
        "        auth2_im = cv2.resize(auth2_im, (im_size, im_size))\n",
        "      \n",
        "        # mask of im is 0/black everywhere where im2 will go   \n",
        "        out_im = np.where(mask_im == 0, auth2_im, out_im) # also works\n",
        "        #im = np.where(mask >= 250, im, im2)\n",
        "\n",
        "      if augmentation != 'None':\n",
        "        # imagaug and albumentations (augmentations for BB included)\n",
        "        if subset == 'test':\n",
        "          break\n",
        "        if augmentation == 'brightness':\n",
        "          b = np.ones(out_im.shape, dtype='uint8')*70\n",
        "          out_im = cv2.add(out_im,b)\n",
        "\n",
        "        elif augmentation == 'dullness':\n",
        "          d = np.ones(out_im.shape, dtype='uint8')*70\n",
        "          out_im = cv2.subtract(out_im,d)\n",
        "\n",
        "        elif augmentation == 'sharpness':\n",
        "          s = np.array([[-1,-1,-1],[-1,10,-1],[-1,-1,-1]])\n",
        "          out_im = cv2.filter2D(out_im, -1,s)\n",
        "\n",
        "      # debug:\n",
        "      #im = cv2.rectangle(im, (x- (bb_pad//2),y- (bb_pad//2)), (x+w1 + (bb_pad//2),y+h1+ (bb_pad//2)), (255, 255, 255), 2)\n",
        "      \n",
        "      cv2.imwrite(os.path.join(root, subset, \"images\", tamp_name + '_' + augmentation + str(j) + ext), out_im)\n",
        "\n",
        "      with open(os.path.join(root, subset, \"labels\", tamp_name + '_' + augmentation + str(j) + '.txt'), 'w') as f:\n",
        "        f.write(str(0) + ' ' + str(c_x) + ' ' + str(c_y) + ' ' + str(w) + ' ' + str(h))\n",
        "\n",
        "\n"
      ],
      "metadata": {
        "id": "7tsvQms1UyDU"
      },
      "execution_count": 61,
      "outputs": []
    },
    {
      "cell_type": "markdown",
      "source": [
        "## Label actual Tampered Dataset (and divide into test/train/valid)"
      ],
      "metadata": {
        "id": "GOdsGY5HU4cE"
      }
    },
    {
      "cell_type": "code",
      "source": [
        "createLabeledSets(root, DB, files, test_size, val_size, im_size, True, 0, 'None', 4)"
      ],
      "metadata": {
        "id": "Nrgt9LhNUxf_",
        "colab": {
          "base_uri": "https://localhost:8080/"
        },
        "outputId": "a1a1f82e-1ec3-41e3-9e03-df776e3663ea"
      },
      "execution_count": 62,
      "outputs": [
        {
          "output_type": "stream",
          "name": "stdout",
          "text": [
            "000bc3906100ede4b1374cea075adedb\n",
            "003f2d6e572e2587ffa809f78ff4a5c4\n",
            "00dd93f9e4af553929e54e66c2a3186e\n",
            "00e079b66d9e9f99892bbb81d9d6cd57\n",
            "00ec0ffe0cd029ad4551680484a007d7\n",
            "00f2eadf3c83c55da30868177dfdc62d\n",
            "01aa04db92eb2617ebfe69ffe32b1bdd\n",
            "01ca35c7722fc0553bad629e14c00d2c\n",
            "01e6ccb1d207ce31033251643aa55f9d\n",
            "02b3c3a0865816af3992f188a5b6c94a\n",
            "02c4c79f3fb145f4c80fa12cfece8b87\n",
            "02e60bdefd5ddc034000c93fffdf645e\n",
            "02efa34b5034a41fb487ef38f07c321c\n",
            "03a529bdfeb4484b679ce36d419c0a04\n",
            "03c794c1aa296f4566d2ee760128de3f\n",
            "03cd095b978da91503f8aa88c5dcfa82\n",
            "03eaa5163b84efa2b14c5d1431107200\n",
            "03ecdd7f56567b5e64a9f9c768af4295\n",
            "04b9dd7d5e3d24e0bca41ff9173626f1\n",
            "04c1b2b6bfe74356016a1a4c43b5d207\n",
            "04d607a8124fa06ee737411f24444bcf\n",
            "04f7cceb8160dcec285a0a79ee7bae7a\n",
            "05d3a37752dd9de965da4b5f88ed97d0\n",
            "05d9c3c9bb54b8beca02ac89553bd84a\n",
            "05e7e21796871e4303cac587265b5d60\n",
            "06a6e29f235cf41ed4c3ca707d994a30\n",
            "06c190007f980b9d58a25a6db433327a\n",
            "06ea436a8f36419fa350dab4e135fecb\n",
            "06f0bd10b361346e4dfe56d185421df1\n",
            "06fd147009294369e6cd87cdf5a6e77d\n",
            "07a65b49129172c82600b05cd37486cf\n",
            "0a086c07d9673188438f32bb070344d5\n",
            "0a0c15a0561d670b4ce6cb940840cde6\n",
            "0a2f675be22415ca63ce0eb9041d68a6\n",
            "0a412801ab3a58a44b58678d89e06b9f\n",
            "0a5229a0666fe83b09043a17a6a8c8bb\n",
            "0a6650a84cb636e3a2ee803b20f233c0\n",
            "0a7e9944ed7e741b1a8eb3cf919f6660\n",
            "0a88eca6230054a93939c42cb3aebca8\n",
            "0ace39e0605d72d7ff1ac92a28422f2a\n",
            "0ad8e0f9069cc8a7cb76cdebeb823867\n",
            "0ae09b5626dc5b360510e9efc9937fc0\n",
            "0ae2cc9bfaa9696f3d83dc594bdde252\n",
            "0af2593778b9d1f6fe4732c02c7cf81d\n",
            "0b0a5ce7ab51abf3f58459e9f4281c43\n",
            "0b2b7e28f3f04599c8e15ea9b4ec574c\n",
            "0b5c39145bec9a6266c2bc703d0d1c18\n",
            "0b983db327e02321dfe852ff36cece9a\n",
            "0ba8a5777136acae9e46cf63aa50dc10\n",
            "0bb084aa9f2a12c8b267be9038869488\n",
            "0bbbede4d0f47bba44dc5a3dc57fbffe\n",
            "0bcc2bbcd0e99c7361dccca311c293a6\n",
            "0bcfc5a4d920dcced672ad82fa136875\n",
            "0bf69d1b9460a9ad974b9a7c57f31632\n",
            "0bfae9d73141b3aa65511d530b95876c\n",
            "0c02991d988c7aac77614a8eb0b5e8fb\n",
            "0c2283a3fb12b580947542b7007f3299\n",
            "0c3a832aa9f599a19dec59b3b4c98b7f\n",
            "0c43945b3bd42eb2f0e68a7f7ed43db0\n",
            "0c52110eaf52d61f9daddcc93ee3ac22\n",
            "0c5c1072b1cb15fad32050433aff2cba\n",
            "0c6bdc9e7cc22fdd4266e39e58fd87be\n",
            "0c7dc8932182ef44dad31c88983675ce\n",
            "0ca4a6bf121ee206bf445358a7797ae5\n",
            "0cb63a63de368044d42c739f42623289\n",
            "0cd373e75d0ef085624d3284c9072327\n",
            "0cd6bd200bc4c3d29049698747f68fbb\n",
            "0cdf4e95d1d0d179be211ed3d89ca8a3\n",
            "0ce49d459921e224bba36d3b41c3c2da\n",
            "0cf8ce7feaeed8650226d1cb2a288fa8\n",
            "0d0cc073fb6bdda1489abd807390e111\n",
            "0d1ad9ccceff46a3c264200d5d0baf35\n",
            "0d3e4b46139d791d9f99b1272a7d454b\n",
            "0d5f8a6d27f0056bdd9362df3476b2c1\n",
            "0d7590a44ca24a2c8ccca4988d32645c\n",
            "0d947114fa6332faf4e6acf376c32273\n",
            "0dc0866f3a9ca31871d93bea98b00b44\n",
            "0dc54d60e63fbf8d981e13302455a24e\n",
            "0dd5caa765877a0a19abc8fff9c97404\n",
            "0dd93d14bcf144ac5665ed717780068b\n",
            "0de9cf6e52acfd2df2d8e4970805c201\n",
            "0df49ffd32815e7aa9c55e9cec48ca5a\n",
            "0e12b739725814023bf25b7c91780852\n",
            "0e2afbb47447fab6cce4fd740fed2f37\n",
            "0e30ff2299d32ad0af9f5c6e7432dec6\n",
            "0e53cd9ad8eeb7e42730e80624a3a0dc\n",
            "0e66c151524f3286121f30479bff2025\n",
            "0e73727abe5eef1591b5828648e70287\n",
            "0e991f4a4c3d73a2c7c8d5f8d48bcca9\n",
            "0ea3a31150fe8d9fb13f7d52cde55fc8\n",
            "0eb173b4c0c9b6e8db3de6bcfafbc421\n",
            "0ec68b5855d7d9b48178f658fd7bb6ef\n",
            "0ed24a267d71f3c23582d481c42d93f4\n",
            "0ed85a138e507c444443472369e8130c\n",
            "0ef0956de235a3db4c511c40d9dca1ba\n",
            "0f0b57e9462dd8ff7da1754bad94bc04\n",
            "0f2019a8daafa28504cc98fe8c241cd0\n",
            "0f21dd0919222a3bbd84b4e8ce7d384a\n",
            "0f510d92d43b1b2f9e9ed73957cf87e8\n",
            "0f5a6c2fdb2f1a405212142a08a5faf5\n",
            "0f674f77aa5c0b10a9ceece99bd234d8\n",
            "0f6a854d35a8bc3f6f25cde4d55f0923\n",
            "0f8819a0c13a7f92cb23dbdafe3d2358\n",
            "0f93074fc0b95fb2af509c3348eaf62c\n",
            "0fbb5ba2d58fdf6c4f129a876c7c0004\n",
            "0fd08b2e45bb0e84af82a2bc3c00a5f2\n",
            "0fed3a3ad1f24f312b4f2a2a07e30597\n",
            "0ff4ce96a90b236f07e5e6d392823890\n",
            "1a04684234ef78eca92427d516137fed\n",
            "1a1b92d5a6e24bca86cef1bfe98671a6\n",
            "1a1e9618255c04a75c87e09aa00e666c\n",
            "1a2bab05359590e8fbc4d4f744cd0093\n",
            "1a45b003ce835352e457100c10092f9a\n",
            "1a59d6491c0b8a7f8107346ebec894c3\n",
            "1a7356e80d964605649d6eda459b8942\n",
            "1a84757f815bc279bff58895fc021662\n",
            "1a85aa645121903fae228cbfe231c2b4\n",
            "1a9a240d5c549ea5f6a464f076d5f783\n",
            "1aa000047472fe7f5bb5ebe6c4570836\n",
            "1aa67f4b9d7d54a6e54ad8a0a5235298\n",
            "1acfc83aabd2061447d57541dc91dc0f\n",
            "1ad7561b361cde01f0a0c546a001763b\n",
            "1ae50d32e718687e82c0b8fa0607c402\n",
            "1b0e83fcbb3b4e09cbcef94904dc2f4b\n",
            "1b28beae459b14fad0bdfcd4680952e6\n",
            "1b3418fba628777a5caa21206352dbdf\n",
            "1b39fdabcc9fd280d7ef5d506da78603\n",
            "1b4bc069995090e56ff0722033b86c9a\n",
            "1b9b2acb177b1c54a37e297aa89dac7a\n",
            "1bac9e4a71f93f29944b18e385c2b05e\n",
            "1bb7e2ddfe860d9886d22f5b5c1a7977\n",
            "1bbe5358b6911fd52ac6383a652292ee\n",
            "1bd0022f266d1a671a126e565318e12a\n",
            "1bdacf031df6961e50e1594a83f3ae97\n",
            "1bf66035480523048bab48a3bbfd2c40\n",
            "1c0a731153c6f1cf85814c74842d1a7f\n",
            "1c39af9d0be4ee3c5a069dfa866b8c5a\n",
            "1c5d35eeabb73e42cbfde3b45d932a7a\n",
            "1c7d4d157e04b416d2d2924abfa08dc8\n",
            "1c81eeabd8b9e98b5c245fb121b8257e\n",
            "1c8c37fec325786aa142a674d26aadbf\n",
            "1ca94a834db5f4e2a463996220634bf4\n",
            "1cc410af4c33428b9de3dea5e5049e79\n",
            "1cd35a8e0f6a81c28b6e44179c445b01\n",
            "1d18a75d0da1c987bb884a181eead4b4\n",
            "1d23dbb0c4fccc0a7cf1d0a64ebb538f\n",
            "1d8ce4e2c38d5802f756fe1a295bafa7\n",
            "1d91a3f7e1d9799eeadc4fb572f5c344\n",
            "1dbd8e2638a4b93f9e8447084490fbad\n",
            "1dd946025c2b0cde73f419a6d06fe74d\n",
            "1dfa55b8cf72db50839fd6bc62476adb\n",
            "1dfe5e33f08f7d4e8e433d4679a5e3f1\n",
            "1e0fb72cec56039d6f0343a1c395103c\n",
            "1e1fec12730c80a71aa1a33e3e8beb02\n",
            "1e4113ee98999234d2c2139774f73ff5\n",
            "1e5e8f13bf8b6995d73c58bc01e091d8\n",
            "1e849849f6d70d173492e5df23bd6aa7\n",
            "1e9d183b2919ba8e66d24df72697b3ad\n",
            "1ebbb5a00989068e50000aaa5d5dd5fc\n",
            "1ef07bc2a8c8feecf5e27c1b72746a89\n",
            "1f11ace07f76db168b8de6b043aaa244\n",
            "1f20849903aa5109dc0eec33a2871840\n",
            "1f281eccd72ee61ac5cba076d14239cb\n",
            "1f30c386408b631e8d5704d406f9e54d\n",
            "1f3e0a9bbf1df8177a8369e2107fba4a\n",
            "1f4a153b261229b3789db9c993afaf93\n",
            "1f51bb9d9f79557fcedfef1d3bc931bc\n",
            "1f65722961c1f54001401933670c078e\n",
            "1f79c88ac393e9c1e2653884d8cbe736\n",
            "1fa229bb0e88dae92a39299c21395c66\n",
            "1fc25a4373e329f72e8770b9446ec0a0\n",
            "1fcfb6d3bdb1480278151dba2f4af47d\n",
            "1fe23fc53ad0c4977837a9926cd17201\n",
            "1ff3b1001a36c15f237a5d619aad1579\n",
            "1ffcceddbb7678d36c5c7afd0e7b803d\n",
            "2a127bde629f2f7d2550c8bbbc948a11\n",
            "2a4184a818a59e3a07886b52d296510e\n",
            "2a4df7ec33239ffbaf4f5b9a0b190ae3\n",
            "2a580b7af4dab33b08fa5a47a1c5b1b3\n",
            "2a64a0d0c2123e9b4dc29d258b8c7f4d\n",
            "2a9405a3d3e8c320c7e5140c9b62a253\n",
            "2a9f3a3fec8d52af7cc2ceed1ca12c13\n",
            "2aa8cb7dcff33fdf6a0642eee0d06139\n",
            "2abc3819330e8b6613596f603122f3f7\n",
            "2acc0576d34ddffdb12affba16ee0bfe\n",
            "2ae1c3e6cafa5d97b7e3e52f5bfaf746\n",
            "2aedbb2acbe0f9f75470ebab61871354\n",
            "2b16863cf2902031bad97f7ae5962f85\n",
            "2b2eda55ae781fcf4fe0dc5281f8ca78\n",
            "2b425bf927f84ad5e267e5a6b7fede07\n",
            "2b71a6a32ed71fb95559b3548620e920\n",
            "2b81c27ccfd295c41c88578454d997c8\n",
            "2b97c09d260661f8b9ff99d24d28df30\n",
            "2bb0c00ce1b242490e924c1e7c252a9b\n",
            "2bd92ff5b2ba8f8225b6e4bc374b34ca\n",
            "2be542c9568beb77f955789eeb474dcd\n",
            "2c015e16351585214db0c71e84d468eb\n",
            "2c09ff2fb41422af52d56cceae0104c5\n",
            "2c238c72e750193d4f33e094d2fd9ac1\n",
            "2c4ece0f798b17c14283b049926da0ab\n",
            "2c55d1e42ac09a35f138fcde5652cc15\n",
            "2c69a54e0566d5b13326a65ec7de7f5f\n",
            "2c9efd7686482f3fd1687c8bed7e1b79\n",
            "2cb78dccf9ba294a0876030ecbc4d807\n",
            "2cbfe7b264f0671635ff4557cb346725\n",
            "2ccf8b2cbbf4d03371654da9baae4043\n",
            "2ce0f4078e50782b914daabc9a2b7793\n",
            "2cea5e8c6e865004b13bd3a7fa0cbad9\n",
            "2cf3e7b5811feeeb905605d06c88a322\n",
            "2cfa2dc4c58aa3766f022100135a313a\n",
            "2d207c1b2bf4c522c5a19150ceab2829\n",
            "2d2c4cc2cbab10b0e900675d680a2e17\n",
            "2d434fc0c848798124376812abd327c8\n",
            "2d4de58c2dacf8461cf9d3ce3b1d7399\n",
            "2d6895ce19c339ec873636c5134bc754\n",
            "2d6d76c1ffd000eabf02d0afaedc523a\n",
            "2d7c8db37b351bc530a0c07865ed119c\n",
            "2dbcd37de21f5d9af5630b100c5e5cdd\n",
            "2dca3a446717e9259df1c61df79a3022\n",
            "2df0f3666db9a7a2ae6766553776d145\n",
            "2e1c52515d76d6c335c10d07acdde14e\n",
            "2e24d9377b08dd0ae207f7d6bd36753f\n",
            "2e3046560de2f64d67e545fe4b16b48f\n",
            "2e45f5184a45dcbda6fca8158b55f01f\n",
            "2e5c14b7e5532c2f1a067c6327d79714\n",
            "2e90d8e9357751ba5d49ac4a0be1f368\n",
            "2e99c2221971f70482d80a7148eab6d4\n",
            "2eb515a0b14569b9c98f3cb7e0a62686\n",
            "2ee1940345456ab6d704428191515ff7\n",
            "2f25be916adb858935b4363da07e7750\n",
            "2f31e8acc4ad6860604f2cb75376d567\n",
            "2f3ae10151c20818d68f21810f17bea8\n",
            "2f45a5334f015e0e75427d209c0ef265\n",
            "2f7d82c9697dbf526bcad0c99dc9b915\n",
            "2f88b06c9008b647bf4462240ad719bc\n",
            "2f8b0583814f166db8837f735b3f0da2\n",
            "2f9a8e339a7334014fb90a84e66489e0\n",
            "2fa04c06aa9a181baffbc5a310ed8cf6\n",
            "2fd904fddf6cc3a3d62cad9f09a53f0b\n",
            "3a1dc2707b78de7e5ec86da3dc06e0d3\n",
            "3a38f1fd519ebe4949980a4f4ab340a5\n",
            "3a47acd29b8dd241271d1a48d12e819b\n",
            "3a4b9bbc3edc0f9a1d7dba155327ecd3\n",
            "3a51a2cf147925f42861a9a28be1528e\n",
            "3a77386340e02e9f2d9054afc400c8a9\n",
            "3a7fa2ec8a6aec2cde48948e62ee6bdb\n",
            "3a91ae164215287a24381b18cd6c5fde\n",
            "3abbc3e853e2e7e26827442a78794123\n",
            "3ac5956d2a2970df80078a3f61f9e3e2\n",
            "3ada1cfc81ff966e956935aeeec5b354\n",
            "3af268d0635db208721813c80d5a68a7\n",
            "3b0f88a81a51a0b69494995e9ba17a9f\n",
            "3b14b6838dc96dc8672de6ba96527e1a\n",
            "3b269d1c65e9aabaf807c3fba4e875a8\n",
            "3b4970c11d7216bba494dd6529a71b69\n",
            "3b6a7bf424704ee9c15dad0184decadc\n",
            "3b7dcf05aedb1ea2312c5c259ebed52b\n",
            "3b915720d58708f83561ade96107afa6\n",
            "3b9c07cc6e523e782b1d93f7784923e9\n",
            "3bc256d43e119247a86be118a8685547\n",
            "3bcf7a0569ed8c3e8ad875f95bfb9375\n",
            "3bd8d2d1a3b0c283a6db034507708beb\n",
            "3bdfe96cca78c134e6e5a7ea71a5d820\n",
            "3be4753bcc1f89546130c0a2f610a010\n",
            "3c0045d491e0b59c5727c5d59feb1064\n",
            "3c12a7177da7224ea0cf0dd4b904159c\n",
            "3c387a33614cb63d87ccb98f8ba71158\n",
            "3c3dca0c55ebca935c8b964a634d59c3\n",
            "3c4141c3fb510f0077807d94aa1a7e7b\n",
            "3c50dcf1847612d830b15384e28a6b20\n",
            "3c61021caf93f68df55053972dce9394\n",
            "3c7aa424bd1693fe01da97967545b57e\n",
            "3c8c56e88b6aebb17800b9b27ea69969\n",
            "3c96827aeecd8b352463f7a820966137\n",
            "3c9926472714107a12fe4737140b5709\n",
            "3ca1b8967f5b36a0ee52651e2d3b7b79\n",
            "3caa8e3dbe2f3572dfb66cfea95a729e\n",
            "3cc9528009f979daf3681b63a47a85af\n",
            "3cdaea0f3649ddf671135bb68aeb40f9\n",
            "3ce72f69f1d70fa6f4251bf620c971af\n",
            "3cfab460cd775b2fc3261f9f9d387c9e\n",
            "3d09c0ffdc59b4093d3c64e9500bfc59\n",
            "3d219be8013149f5d3bedbe852c6cda9\n",
            "3d2f6161fc278d5087b6fc7072abdfb5\n",
            "3d3ba2dcec4a2cd55ded4c8b9c9af46c\n",
            "3d4b212f8fcea18a455229e92eb4917f\n",
            "3d59e2121cd4a713883a1b06cb7b11ab\n",
            "3d85fc8acc66dfa9a4b23f4dcc88d179\n",
            "3d9ec059b5844e8324f117107fb89f89\n",
            "3dbe40a77b052f5d1708a7693997a6d7\n",
            "3dc169ca1c6fac15eb894ea4070b3354\n",
            "3de6cffce5e0922289bc60c4928acc83\n",
            "3dfd63f3e4d34de1091bebba86e46ad2\n",
            "3e1ce0b5d43bd87897198dc75b0fc39a\n",
            "3e2675aef79e152afb49b648c2892d8a\n",
            "3e2ddf72bfb7b50302e67ec901bc7496\n",
            "3e3490e4bf0ae35669a988fa33b4e493\n",
            "3e61c9e80fb244378943e49012aaeea0\n",
            "3e7c5c1887a25f5b7870099bc7515244\n",
            "3eb4dac35b0af9e0d60e609e8ed4ed0b\n",
            "3ed9ade3be865623506e3128b509671b\n",
            "3ee9c36e58fe167d9b435cbaf1718bf7\n",
            "3f062d8f3b0a5e9a4997f243734eec9b\n",
            "3f12bff27921caae44fa8498a21e1210\n",
            "3f34a7d6c4b3e5b36f40fc178e7e656c\n",
            "3f6d0397931857e02c97a95ec184ddec\n",
            "3f730117c58c8e112a7b33f1331e9ef0\n",
            "3fb1caecdb65c2ec062fd4e18381c8b0\n",
            "3fc5e991d9d67ade69e95d8422b8b694\n",
            "3fd217536bef02ee5af5f0db51882cc0\n",
            "4a02214442af1a4e0aaa1c21a6ec4f88\n",
            "4a1bc3dfa2890535b3c20c233486dbb0\n",
            "4a3c87626d683848038323bf2c172401\n",
            "4a3fd0d22bf64c51d846e49a1d02836e\n",
            "4a431854d5f7d6cd54c8352aa27c42f7\n",
            "4a694369bbb2e7271c7783d79f77e862\n",
            "4a803c2402240d2ede6810e9aacb38b3\n",
            "4a872e335a01ea5a7351204cbfa593f0\n",
            "4a8a6effa7ff76ea840eeade09a99290\n",
            "4ab1f8286e1849fb45f0c5164be20918\n",
            "4ac8103505266c5d066fb68694efbe63\n",
            "4adf21f520335cb6e68c71a6d01a53ce\n",
            "4afe9d1ba7e6165ec16f65480716f637\n",
            "4b150edc95981a601ce83e5483b8762f\n",
            "4b1b3f1ab4fcb051917f465385c0be22\n",
            "4b27ce4bea6a576d928932f005e954cb\n",
            "4b33a1dec66064fb01ba4f7e70573858\n",
            "4b516dc276883cb0f2df8828522f072d\n",
            "4b70f11a2570c4418d732d9f31a5efd5\n",
            "4b7b8a34f7e2c6f5208db509e602c364\n",
            "4bc6326fedd3e7cea3abf418c225d5df\n",
            "4bc96e868d4eb0477881c14c65c112a4\n",
            "4bd0da9b73f2aa99032c8ce84ebab6b3\n",
            "4bf3f6c258465d85d004196b0dc07238\n",
            "4c15ec243178e6fea3390f17b1c0070c\n",
            "4c62ff1dbfb7828b2432194ff0ce0b5a\n",
            "4c79e2b94eabf77fcef0577527ad6057\n",
            "4c7d472a7981f7831ad2373b522c1cb3\n",
            "4c9f7c5d2267d3acf74d14a6ebf47bec\n",
            "4cab845ff2ba6fb131797f3539f90161\n",
            "4ccb92789d4b16af894e75c3e40f5e73\n",
            "4cf0e711b26495bbd617c8dcdc7a1585\n",
            "4cfce60b3c6e30635dbcbae55d9e5f01\n",
            "4d1f45b47db78a09538e65ce848e9201\n",
            "4d3e8361ef33681f61908515665c7c94\n",
            "4d493266de1cefe31575bfa475839089\n",
            "4d82bb88be2aa19d56c83462359c7648\n",
            "4d8ce2c467a287c0a5f0d3509ac55ef3\n",
            "4db6603b65d03796d5ecde2a6a421f03\n",
            "4ddf1de41ca61cbcb75c39a415263f8f\n",
            "4de395165118471b485c109f95210988\n",
            "4e05036c8795dac4bbe528a76331e501\n",
            "4e0d72e005446796a58ef654e0b55098\n",
            "4e4037950d2b340f91b1ce62917ad628\n",
            "4e6c448578bb02cb2a32379ceb09cbb1\n",
            "4e89e6d21777a52b7cf145bde1b44429\n",
            "4e8e61821e23fc29b0eb84252f9eb09d\n",
            "4ea98503b10e317e81fc38691d035ec1\n",
            "4eb87dd48e5bd507b983ba8dd7792e0e\n",
            "4ec45a6cecd8a24a5ec3310ce19b2d73\n",
            "4eccb855090d1839bb70b6bb7e67f863\n",
            "4f0133e6083cadbe46d90e05b6b51ad7\n",
            "4f073dcf62f2aca42ae352469bff7681\n",
            "4f15fcfaea4ca11088275f4377704d6a\n",
            "4f208c2befbfc8431aeb7f9e93d2bf64\n",
            "4f4c566cd60100ad7f224875dbc24f2f\n",
            "4f70340d893fc1e430ea13c452516689\n",
            "4f923c1db3ca6cc16b20cc2e7c18e17c\n",
            "4fbf3c5ad32f5e222ed1953316ce0d51\n",
            "4fe359036f12b71ffd35b6e3666966a8\n",
            "4fedf7612fb6ea67a4a9b963396e3b2a\n",
            "5a0a481b717fd0e0f199589da2eb3883\n",
            "5a1423e388a2ff42ac9884e0dae7e715\n",
            "5a25dce69a98d43ba6e9006a27876124\n",
            "5a33babc5fab4dfb80959bfa892f18b0\n",
            "5a3c4533dd0b0ae4b4dd7149fa2bf487\n",
            "5a496059c072c69c7bb0c86b795d1582\n",
            "5a5c1f2e74a9eb081113929fbac9e77f\n",
            "5a7ac41cc0da7b795bc07b124fcd1990\n",
            "5a8b217c31ce6f3a8ab2dd283adc8b57\n",
            "5ab014e9c782b5711c3bb02a7c8e8d74\n",
            "5aced0ab3e06a9428cf54767cd5b8df6\n",
            "5ae4411f4460945953c0538f72f1e91a\n",
            "5b0aae9073ce0155da973d5c14ac0ea5\n",
            "5b166a348430539eb9c9be6ccce20a0e\n",
            "5b395b33770bb1171248496e5b6fef3e\n",
            "5b859221d2db5458a934dd435e09981c\n",
            "5baad3a7caad534f1b23e792e2a36d2f\n",
            "5bf1accded699808b35d978d74166c04\n",
            "5c053d4e9065093c17dc5ca9154b6577\n",
            "5c25282c0caf427ba88705bb8f9ef8a3\n",
            "5c378c173635a936d6b20f2cec9f2d41\n",
            "5c43592962d6dfd02609fad871c2a05d\n",
            "5c556a2dc319fceb3bc915649905131f\n",
            "5c59ef21a0e633b7b14feceab2e36429\n",
            "5c681d5cfa41d08d91991e64c890e75c\n",
            "5c748d0da4de0581bafa20236487c62d\n",
            "5c8ef504c032b0e25eb3126bd2deaca0\n",
            "5cb31a4e9c401164c04a60b23437987c\n",
            "5cbaaf5f1f702e09b2d3b7adb264db95\n",
            "5ce553d99d488a214004a0c2a8298d2a\n",
            "5d0c2cadc335ff0aff5fe2200336969c\n",
            "5d28aee5e48392f0fe737e169ec0ff59\n",
            "5d321e0464a6a1b6fa6509642c58b569\n",
            "5d4d0449273a7e4619e6ab87124539df\n",
            "5d55fcb042a1b568e13fdfec9cf30dd7\n",
            "5d7faad1f366ab67568d185a0dce8173\n",
            "5d893ce126126e2c6392390446464408\n",
            "5db767fa2e266b72fc90c14cd58f6271\n",
            "5dc886f88b2e4abec4139a24019d4fbf\n",
            "5de9a55bc239f2959ca1307d371c360c\n",
            "5defb03b71f40b6029c46701192b077e\n",
            "5dfb6c7617de9d8972ec3f0cf32ac53f\n",
            "5e0ec5fcdcd772e8818d31154f4b88c1\n",
            "5e5de13ef0adcf7ffe963b039b2467da\n",
            "5e750f854a264609cb965538a40ab795\n",
            "5e843b489e194290ba8adee4bb2f1516\n",
            "5eb78e1ff5beb6f5cb54bb9a27cdbe43\n",
            "5ec18997239cecdb947fea58d77c7bf5\n",
            "5ece5a8c256b5535efbbb6d6750710d0\n",
            "5edffb5136b163b302b8931f3aa969db\n",
            "5f08f620b624894e6c48f938343861a1\n",
            "5f114190e94774c3b2bdb757906a66b4\n",
            "5f240654e333951c4f9be91ffcab56fc\n",
            "5f2c3de190f1e231fbb68d64eae7badc\n",
            "5f4f020f11e36ff87a7bb8f568e4ee26\n",
            "5f658c45fcaeae04ef3d3ba10bfa9103\n",
            "5f80501654b6f4e5e2801465e9c0bd5f\n",
            "5fa8869678f16b7916bad5437c28959b\n",
            "5fba3fd0b379a51a6cc4ca22aa28e0cd\n",
            "5fc9673d86e8c0b4b7abf67526058599\n",
            "5fd1b52b6940dc9bcdaba7c283791c11\n",
            "5ff53374f20d12a37c315ec7288396b8\n",
            "6a19aa173506c2970237076ed0e4af0e\n",
            "6a26bca72eec83c3eb6290b471f76d72\n",
            "6a42ba51a1090e25afd79f97144496ac\n",
            "6a486eca64c70c43eb1c9985458ffa97\n",
            "6a5a7b324744227f828329a29744ff2a\n",
            "6a68286e27dacf32aeaf277854f493a6\n",
            "6a6f9d82272782286aef9cd918418244\n",
            "6a750b3e3ec6dacc1b887162055d67cd\n",
            "6a8a86869eae63af596fd14e50f2b3c6\n",
            "6aac18ba35542f2a9fd6d91d7e202549\n",
            "6aad58b761f1d96698ea5d808a4af381\n",
            "6acfc634267cf6affbce00cd2a20f233\n",
            "6ad8d64f83734f1891517ecb21b2b0bd\n",
            "6ae7cf922c02d7144b2f92d9a03c0c3c\n",
            "6af6095dd48383206a6b75b586bed603\n",
            "6afa3c94f2e59d887d5a0df6359dee11\n",
            "6afbf0e42c1a5f430affaeaa8c2955cd\n"
          ]
        }
      ]
    },
    {
      "cell_type": "markdown",
      "source": [
        "### Create sets (non-synthetic)"
      ],
      "metadata": {
        "id": "iVJJdlQ2YUai"
      }
    },
    {
      "cell_type": "code",
      "source": [
        "createLabeledSets(root, DB, files, test_size, val_size, im_size, False, 0, 'None', 4)"
      ],
      "metadata": {
        "id": "jdnmB7DCb2y0"
      },
      "execution_count": null,
      "outputs": []
    },
    {
      "cell_type": "code",
      "source": [
        "createLabeledSets(root, DB, files, test_size, val_size, im_size, False, 0, 'brightness', 1)"
      ],
      "metadata": {
        "id": "_Ih5LzxiljJ3"
      },
      "execution_count": null,
      "outputs": []
    },
    {
      "cell_type": "code",
      "source": [
        "createLabeledSets(root, DB, files, test_size, val_size, im_size, False, 0, 'dullness', 1)"
      ],
      "metadata": {
        "id": "Av2lIOnNlqIA"
      },
      "execution_count": null,
      "outputs": []
    },
    {
      "cell_type": "code",
      "source": [
        "%%writefile /content/data.yaml\n",
        "train: /content/train/images\n",
        "val: /content/valid/images\n",
        "test: /content/test/images\n",
        "\n",
        "\n",
        "nc: 1\n",
        "names: ['tampered']"
      ],
      "metadata": {
        "colab": {
          "base_uri": "https://localhost:8080/"
        },
        "id": "6cQAETqIVDZN",
        "outputId": "38d37b4c-c2ab-4b1a-86d6-97301bd35a35"
      },
      "execution_count": null,
      "outputs": [
        {
          "output_type": "stream",
          "name": "stdout",
          "text": [
            "Writing /content/data.yaml\n"
          ]
        }
      ]
    },
    {
      "cell_type": "markdown",
      "source": [
        "### move images and masks folders into syn directory before running below"
      ],
      "metadata": {
        "id": "dQo85moCTxdz"
      }
    },
    {
      "cell_type": "code",
      "source": [
        "root = '/content/syn/'"
      ],
      "metadata": {
        "id": "m7-yu_hhVkrI"
      },
      "execution_count": null,
      "outputs": []
    },
    {
      "cell_type": "code",
      "source": [
        "# create file structures:\n",
        "os.mkdir(root)\n",
        "# train \n",
        "os.mkdir(root + 'train')\n",
        "os.mkdir(root + 'train/' + 'labels')\n",
        "os.mkdir(root + 'train/' + 'images')\n",
        "# test\n",
        "os.mkdir(root + 'test')\n",
        "os.mkdir(root + 'test/' + 'labels')\n",
        "os.mkdir(root + 'test/' + 'images')\n",
        "# valid\n",
        "os.mkdir(root + 'valid')\n",
        "os.mkdir(root + 'valid/' + 'labels')\n",
        "os.mkdir(root + 'valid/' + 'images')"
      ],
      "metadata": {
        "id": "3PjTwoT-S65j"
      },
      "execution_count": null,
      "outputs": []
    },
    {
      "cell_type": "code",
      "source": [
        "createLabeledSets(root, DB, test_size, val_size, im_size, True, 'None', 2)"
      ],
      "metadata": {
        "id": "ug9knO1O9Cp9"
      },
      "execution_count": null,
      "outputs": []
    },
    {
      "cell_type": "code",
      "source": [
        "%%writefile /content/data_syn.yaml\n",
        "train: /content/syn/train/images\n",
        "val: /content/syn/valid/images\n",
        "test: /content/syn/test/images\n",
        "\n",
        "\n",
        "nc: 1\n",
        "names: ['tampered']"
      ],
      "metadata": {
        "colab": {
          "base_uri": "https://localhost:8080/"
        },
        "id": "KSd51Qe477j1",
        "outputId": "1f9a368c-5426-42b4-9e7f-b282c9c21ce2"
      },
      "execution_count": null,
      "outputs": [
        {
          "output_type": "stream",
          "name": "stdout",
          "text": [
            "Writing /content/data_syn.yaml\n"
          ]
        }
      ]
    },
    {
      "cell_type": "markdown",
      "metadata": {
        "id": "7mGmQbAO5pQb"
      },
      "source": [
        "# Setup\n",
        "\n",
        "Clone repo, install dependencies and check PyTorch and GPU."
      ]
    },
    {
      "cell_type": "code",
      "metadata": {
        "id": "wbvMlHd_QwMG",
        "colab": {
          "base_uri": "https://localhost:8080/"
        },
        "outputId": "80653543-bcba-40c5-d86f-08454f81e251"
      },
      "source": [
        "!git clone https://github.com/ultralytics/yolov5  # clone\n",
        "%cd yolov5\n",
        "%pip install -qr requirements.txt  # install\n",
        "\n",
        "#import torch\n",
        "import utils\n",
        "display = utils.notebook_init()  # checks"
      ],
      "execution_count": null,
      "outputs": [
        {
          "output_type": "stream",
          "name": "stderr",
          "text": [
            "INFO:yolov5:YOLOv5 🚀 v6.1-386-g2e57b84 Python-3.7.13 torch-1.12.1+cu113 CUDA:0 (Tesla P100-PCIE-16GB, 16281MiB)\n",
            "YOLOv5 🚀 v6.1-386-g2e57b84 Python-3.7.13 torch-1.12.1+cu113 CUDA:0 (Tesla P100-PCIE-16GB, 16281MiB)\n"
          ]
        },
        {
          "output_type": "stream",
          "name": "stdout",
          "text": [
            "Setup complete ✅ (4 CPUs, 25.5 GB RAM, 37.6/166.8 GB disk)\n"
          ]
        }
      ]
    },
    {
      "cell_type": "code",
      "source": [
        "%%time\n",
        "%cd /content/yolov5/\n",
        "!python train.py --img 416 --batch 16 --epochs 240 --data '/content/data.yaml' --cfg /content/yolov5/models/yolov5m.yaml --weights '/content/syn240.pt' --name yolov5s_results  --cache"
      ],
      "metadata": {
        "id": "S5e4zFticKEB"
      },
      "execution_count": null,
      "outputs": []
    },
    {
      "cell_type": "code",
      "source": [
        "%%time\n",
        "%cd /content/yolov5/\n",
        "!python val.py --weights /content/yolov5/runs/train/yolov5s_results3/weights/best.pt --data /content/data.yaml --img 416 --conf 0.2 --task test --save-txt\n"
      ],
      "metadata": {
        "id": "vrE2RPn4jPf1"
      },
      "execution_count": null,
      "outputs": []
    },
    {
      "cell_type": "code",
      "source": [
        "%cd /content/yolov5/\n",
        "!python detect.py --weights runs/train/yolov5s_results/weights/best.pt --img 416 --conf 0.2 --source ../test/images"
      ],
      "metadata": {
        "id": "OPYFCKzek6Cp"
      },
      "execution_count": null,
      "outputs": []
    },
    {
      "cell_type": "markdown",
      "source": [
        "## Freeze backbone"
      ],
      "metadata": {
        "id": "-v_ye08udHeL"
      }
    },
    {
      "cell_type": "code",
      "source": [
        "%%time\n",
        "%cd /content/yolov5/\n",
        "!python train.py --freeze 10 --img 416 --batch 16 --epochs 240 --data '/content/data.yaml' --cfg /content/yolov5/models/yolov5m.yaml --weights '/content/syn240.pt' --name yolov5s_results  --cache"
      ],
      "metadata": {
        "id": "PdmCRg3bVh5e"
      },
      "execution_count": null,
      "outputs": []
    }
  ]
}